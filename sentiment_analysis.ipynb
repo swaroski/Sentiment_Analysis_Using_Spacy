{
 "cells": [
  {
   "cell_type": "markdown",
   "id": "625521d3",
   "metadata": {},
   "source": [
    "# <font color=\"maroon bold\"> Text Classification with Spacy"
   ]
  },
  {
   "cell_type": "code",
   "execution_count": 1,
   "id": "334980b9",
   "metadata": {},
   "outputs": [],
   "source": [
    "import pandas as pd\n",
    "import spacy \n",
    "import matplotlib.pyplot as plt \n",
    "import seaborn as sns \n",
    "sns.set(style=\"darkgrid\")\n",
    "sns.set(font_scale=1.3)"
   ]
  },
  {
   "cell_type": "code",
   "execution_count": 2,
   "id": "f911c239",
   "metadata": {},
   "outputs": [],
   "source": [
    "# Import Steam Reviews dataset from Local disc\n",
    "df = pd.read_csv(\"..\\\\NLP_tasks\\\\data\\\\train.csv\")"
   ]
  },
  {
   "cell_type": "code",
   "execution_count": 3,
   "id": "99784fe5",
   "metadata": {},
   "outputs": [
    {
     "data": {
      "text/html": [
       "<div>\n",
       "<style scoped>\n",
       "    .dataframe tbody tr th:only-of-type {\n",
       "        vertical-align: middle;\n",
       "    }\n",
       "\n",
       "    .dataframe tbody tr th {\n",
       "        vertical-align: top;\n",
       "    }\n",
       "\n",
       "    .dataframe thead th {\n",
       "        text-align: right;\n",
       "    }\n",
       "</style>\n",
       "<table border=\"1\" class=\"dataframe\">\n",
       "  <thead>\n",
       "    <tr style=\"text-align: right;\">\n",
       "      <th></th>\n",
       "      <th>review_id</th>\n",
       "      <th>title</th>\n",
       "      <th>year</th>\n",
       "      <th>user_review</th>\n",
       "      <th>user_suggestion</th>\n",
       "    </tr>\n",
       "  </thead>\n",
       "  <tbody>\n",
       "    <tr>\n",
       "      <th>0</th>\n",
       "      <td>1</td>\n",
       "      <td>Spooky's Jump Scare Mansion</td>\n",
       "      <td>2016.0</td>\n",
       "      <td>I'm scared and hearing creepy voices.  So I'll...</td>\n",
       "      <td>1</td>\n",
       "    </tr>\n",
       "    <tr>\n",
       "      <th>1</th>\n",
       "      <td>2</td>\n",
       "      <td>Spooky's Jump Scare Mansion</td>\n",
       "      <td>2016.0</td>\n",
       "      <td>Best game, more better than Sam Pepper's YouTu...</td>\n",
       "      <td>1</td>\n",
       "    </tr>\n",
       "    <tr>\n",
       "      <th>2</th>\n",
       "      <td>3</td>\n",
       "      <td>Spooky's Jump Scare Mansion</td>\n",
       "      <td>2016.0</td>\n",
       "      <td>A littly iffy on the controls, but once you kn...</td>\n",
       "      <td>1</td>\n",
       "    </tr>\n",
       "    <tr>\n",
       "      <th>3</th>\n",
       "      <td>4</td>\n",
       "      <td>Spooky's Jump Scare Mansion</td>\n",
       "      <td>2015.0</td>\n",
       "      <td>Great game, fun and colorful and all that.A si...</td>\n",
       "      <td>1</td>\n",
       "    </tr>\n",
       "    <tr>\n",
       "      <th>4</th>\n",
       "      <td>5</td>\n",
       "      <td>Spooky's Jump Scare Mansion</td>\n",
       "      <td>2015.0</td>\n",
       "      <td>Not many games have the cute tag right next to...</td>\n",
       "      <td>1</td>\n",
       "    </tr>\n",
       "    <tr>\n",
       "      <th>5</th>\n",
       "      <td>6</td>\n",
       "      <td>Spooky's Jump Scare Mansion</td>\n",
       "      <td>2015.0</td>\n",
       "      <td>Early Access ReviewIt's pretty cute at first, ...</td>\n",
       "      <td>1</td>\n",
       "    </tr>\n",
       "    <tr>\n",
       "      <th>6</th>\n",
       "      <td>7</td>\n",
       "      <td>Spooky's Jump Scare Mansion</td>\n",
       "      <td>2017.0</td>\n",
       "      <td>Great game. it's a cute little horror game tha...</td>\n",
       "      <td>1</td>\n",
       "    </tr>\n",
       "    <tr>\n",
       "      <th>7</th>\n",
       "      <td>8</td>\n",
       "      <td>Spooky's Jump Scare Mansion</td>\n",
       "      <td>2015.0</td>\n",
       "      <td>Spooky's Jump Scare Mansion is a Free Retro ma...</td>\n",
       "      <td>1</td>\n",
       "    </tr>\n",
       "    <tr>\n",
       "      <th>8</th>\n",
       "      <td>9</td>\n",
       "      <td>Spooky's Jump Scare Mansion</td>\n",
       "      <td>2015.0</td>\n",
       "      <td>Somewhere between light hearted, happy parody ...</td>\n",
       "      <td>0</td>\n",
       "    </tr>\n",
       "    <tr>\n",
       "      <th>9</th>\n",
       "      <td>10</td>\n",
       "      <td>Spooky's Jump Scare Mansion</td>\n",
       "      <td>2015.0</td>\n",
       "      <td>This game with its cute little out of the wall...</td>\n",
       "      <td>1</td>\n",
       "    </tr>\n",
       "    <tr>\n",
       "      <th>10</th>\n",
       "      <td>11</td>\n",
       "      <td>Spooky's Jump Scare Mansion</td>\n",
       "      <td>2015.0</td>\n",
       "      <td>Early Access ReviewI thought this game would b...</td>\n",
       "      <td>1</td>\n",
       "    </tr>\n",
       "    <tr>\n",
       "      <th>11</th>\n",
       "      <td>12</td>\n",
       "      <td>Spooky's Jump Scare Mansion</td>\n",
       "      <td>2015.0</td>\n",
       "      <td>Early Access ReviewGreen ghosty goo thing chas...</td>\n",
       "      <td>1</td>\n",
       "    </tr>\n",
       "    <tr>\n",
       "      <th>12</th>\n",
       "      <td>13</td>\n",
       "      <td>Spooky's Jump Scare Mansion</td>\n",
       "      <td>2015.0</td>\n",
       "      <td>Early Access ReviewRooms 1-20 were cute and ad...</td>\n",
       "      <td>1</td>\n",
       "    </tr>\n",
       "    <tr>\n",
       "      <th>13</th>\n",
       "      <td>14</td>\n",
       "      <td>Spooky's Jump Scare Mansion</td>\n",
       "      <td>2015.0</td>\n",
       "      <td>Early Access ReviewGreat game.  It always has ...</td>\n",
       "      <td>1</td>\n",
       "    </tr>\n",
       "    <tr>\n",
       "      <th>14</th>\n",
       "      <td>15</td>\n",
       "      <td>Spooky's Jump Scare Mansion</td>\n",
       "      <td>2015.0</td>\n",
       "      <td>The name says it all, but don't get fooled by ...</td>\n",
       "      <td>1</td>\n",
       "    </tr>\n",
       "  </tbody>\n",
       "</table>\n",
       "</div>"
      ],
      "text/plain": [
       "    review_id                        title    year  \\\n",
       "0           1  Spooky's Jump Scare Mansion  2016.0   \n",
       "1           2  Spooky's Jump Scare Mansion  2016.0   \n",
       "2           3  Spooky's Jump Scare Mansion  2016.0   \n",
       "3           4  Spooky's Jump Scare Mansion  2015.0   \n",
       "4           5  Spooky's Jump Scare Mansion  2015.0   \n",
       "5           6  Spooky's Jump Scare Mansion  2015.0   \n",
       "6           7  Spooky's Jump Scare Mansion  2017.0   \n",
       "7           8  Spooky's Jump Scare Mansion  2015.0   \n",
       "8           9  Spooky's Jump Scare Mansion  2015.0   \n",
       "9          10  Spooky's Jump Scare Mansion  2015.0   \n",
       "10         11  Spooky's Jump Scare Mansion  2015.0   \n",
       "11         12  Spooky's Jump Scare Mansion  2015.0   \n",
       "12         13  Spooky's Jump Scare Mansion  2015.0   \n",
       "13         14  Spooky's Jump Scare Mansion  2015.0   \n",
       "14         15  Spooky's Jump Scare Mansion  2015.0   \n",
       "\n",
       "                                          user_review  user_suggestion  \n",
       "0   I'm scared and hearing creepy voices.  So I'll...                1  \n",
       "1   Best game, more better than Sam Pepper's YouTu...                1  \n",
       "2   A littly iffy on the controls, but once you kn...                1  \n",
       "3   Great game, fun and colorful and all that.A si...                1  \n",
       "4   Not many games have the cute tag right next to...                1  \n",
       "5   Early Access ReviewIt's pretty cute at first, ...                1  \n",
       "6   Great game. it's a cute little horror game tha...                1  \n",
       "7   Spooky's Jump Scare Mansion is a Free Retro ma...                1  \n",
       "8   Somewhere between light hearted, happy parody ...                0  \n",
       "9   This game with its cute little out of the wall...                1  \n",
       "10  Early Access ReviewI thought this game would b...                1  \n",
       "11  Early Access ReviewGreen ghosty goo thing chas...                1  \n",
       "12  Early Access ReviewRooms 1-20 were cute and ad...                1  \n",
       "13  Early Access ReviewGreat game.  It always has ...                1  \n",
       "14  The name says it all, but don't get fooled by ...                1  "
      ]
     },
     "execution_count": 3,
     "metadata": {},
     "output_type": "execute_result"
    }
   ],
   "source": [
    "df.head(15)"
   ]
  },
  {
   "cell_type": "code",
   "execution_count": 4,
   "id": "04ea52d0",
   "metadata": {},
   "outputs": [
    {
     "data": {
      "text/html": [
       "<div>\n",
       "<style scoped>\n",
       "    .dataframe tbody tr th:only-of-type {\n",
       "        vertical-align: middle;\n",
       "    }\n",
       "\n",
       "    .dataframe tbody tr th {\n",
       "        vertical-align: top;\n",
       "    }\n",
       "\n",
       "    .dataframe thead th {\n",
       "        text-align: right;\n",
       "    }\n",
       "</style>\n",
       "<table border=\"1\" class=\"dataframe\">\n",
       "  <thead>\n",
       "    <tr style=\"text-align: right;\">\n",
       "      <th></th>\n",
       "      <th>user_review</th>\n",
       "      <th>user_suggestion</th>\n",
       "    </tr>\n",
       "  </thead>\n",
       "  <tbody>\n",
       "    <tr>\n",
       "      <th>0</th>\n",
       "      <td>I'm scared and hearing creepy voices.  So I'll...</td>\n",
       "      <td>1</td>\n",
       "    </tr>\n",
       "    <tr>\n",
       "      <th>1</th>\n",
       "      <td>Best game, more better than Sam Pepper's YouTu...</td>\n",
       "      <td>1</td>\n",
       "    </tr>\n",
       "    <tr>\n",
       "      <th>2</th>\n",
       "      <td>A littly iffy on the controls, but once you kn...</td>\n",
       "      <td>1</td>\n",
       "    </tr>\n",
       "    <tr>\n",
       "      <th>3</th>\n",
       "      <td>Great game, fun and colorful and all that.A si...</td>\n",
       "      <td>1</td>\n",
       "    </tr>\n",
       "    <tr>\n",
       "      <th>4</th>\n",
       "      <td>Not many games have the cute tag right next to...</td>\n",
       "      <td>1</td>\n",
       "    </tr>\n",
       "  </tbody>\n",
       "</table>\n",
       "</div>"
      ],
      "text/plain": [
       "                                         user_review  user_suggestion\n",
       "0  I'm scared and hearing creepy voices.  So I'll...                1\n",
       "1  Best game, more better than Sam Pepper's YouTu...                1\n",
       "2  A littly iffy on the controls, but once you kn...                1\n",
       "3  Great game, fun and colorful and all that.A si...                1\n",
       "4  Not many games have the cute tag right next to...                1"
      ]
     },
     "execution_count": 4,
     "metadata": {},
     "output_type": "execute_result"
    }
   ],
   "source": [
    "df = df[['user_review', 'user_suggestion']].dropna()\n",
    "df.head()"
   ]
  },
  {
   "cell_type": "code",
   "execution_count": 5,
   "id": "3529d60a",
   "metadata": {},
   "outputs": [
    {
     "data": {
      "text/plain": [
       "user_review        17494\n",
       "user_suggestion    17494\n",
       "dtype: int64"
      ]
     },
     "execution_count": 5,
     "metadata": {},
     "output_type": "execute_result"
    }
   ],
   "source": [
    "df.count()"
   ]
  },
  {
   "cell_type": "code",
   "execution_count": 6,
   "id": "751f16d2",
   "metadata": {},
   "outputs": [],
   "source": [
    "df1 = df.user_suggestion.value_counts()"
   ]
  },
  {
   "cell_type": "code",
   "execution_count": 7,
   "id": "77d3c4bf",
   "metadata": {},
   "outputs": [
    {
     "data": {
      "text/plain": [
       "1    9968\n",
       "0    7526\n",
       "Name: user_suggestion, dtype: int64"
      ]
     },
     "execution_count": 7,
     "metadata": {},
     "output_type": "execute_result"
    }
   ],
   "source": [
    "df1"
   ]
  },
  {
   "cell_type": "code",
   "execution_count": 8,
   "id": "e21b8f1e",
   "metadata": {},
   "outputs": [
    {
     "data": {
      "image/png": "[encoded data removed]",
      "text/plain": [
       "<Figure size 750x500 with 1 Axes>"
      ]
     },
     "metadata": {},
     "output_type": "display_data"
    }
   ],
   "source": [
    "sns.catplot(x=\"user_suggestion\", \n",
    "               data=df, \n",
    "               kind=\"count\", \n",
    "               aspect=1.5,\n",
    "               palette=\"gist_rainbow\")\n",
    "plt.show()"
   ]
  },
  {
   "cell_type": "code",
   "execution_count": 9,
   "id": "dca98b9f",
   "metadata": {},
   "outputs": [
    {
     "data": {
      "text/plain": [
       "['tok2vec', 'tagger', 'parser', 'attribute_ruler', 'lemmatizer', 'ner']"
      ]
     },
     "execution_count": 9,
     "metadata": {},
     "output_type": "execute_result"
    }
   ],
   "source": [
    "nlp=spacy.load(\"en_core_web_sm\")\n",
    "nlp.pipe_names "
   ]
  },
  {
   "cell_type": "code",
   "execution_count": 78,
   "id": "95545a3d",
   "metadata": {},
   "outputs": [
    {
     "data": {
      "text/plain": [
       "['tok2vec',\n",
       " 'tagger',\n",
       " 'parser',\n",
       " 'attribute_ruler',\n",
       " 'lemmatizer',\n",
       " 'ner',\n",
       " 'textcat']"
      ]
     },
     "execution_count": 78,
     "metadata": {},
     "output_type": "execute_result"
    }
   ],
   "source": [
    "from spacy.pipeline.textcat import Config, single_label_bow_config\n",
    "\n",
    "nlp=spacy.load(\"en_core_web_sm\")\n",
    "\n",
    "\n",
    "config = Config().from_str(single_label_bow_config)\n",
    "\n",
    "if \"textcat\" not in nlp.pipe_names:\n",
    "    nlp.add_pipe('textcat', config=config, last=True)\n",
    "\n",
    "textcat = nlp.get_pipe('textcat')\n",
    "nlp.pipe_names\n"
   ]
  },
  {
   "cell_type": "code",
   "execution_count": 62,
   "id": "fb64f49b",
   "metadata": {},
   "outputs": [
    {
     "data": {
      "text/plain": [
       "['tok2vec',\n",
       " 'tagger',\n",
       " 'parser',\n",
       " 'attribute_ruler',\n",
       " 'lemmatizer',\n",
       " 'ner',\n",
       " 'textcat']"
      ]
     },
     "execution_count": 62,
     "metadata": {},
     "output_type": "execute_result"
    }
   ],
   "source": [
    "'''\n",
    "The list of components in nlp.pipe_names represents the various processing components or pipelines that have been added to \n",
    "a spaCy NLP model. Each component performs a specific NLP task during the text processing pipeline. \n",
    "Here's a brief explanation of each of the components you listed:\n",
    "\n",
    "'tok2vec': This component is responsible for converting text into vector representations, \n",
    "which are numerical representations that capture the meaning of words and their relationships in the context of a document.\n",
    "\n",
    "'tagger': The tagger component assigns part-of-speech tags to each word in the text, indicating whether a word is a noun, \n",
    "verb, adjective, etc.\n",
    "\n",
    "'parser': The parser component analyzes the syntactic structure of sentences, including identifying relationships \n",
    "between words, such as subject-verb relationships and dependency parsing.\n",
    "\n",
    "'attribute_ruler': The attribute ruler is used for custom attribute setting and modification. \n",
    "It allows you to define rules for setting custom attributes on tokens.\n",
    "\n",
    "'lemmatizer': The lemmatizer component reduces words to their base or dictionary form (lemmas). \n",
    "For example, it can convert \"running\" to \"run.\"\n",
    "\n",
    "'ner': The named entity recognition (NER) component identifies and categorizes named entities in the text, \n",
    "such as persons, organizations, locations, and more.\n",
    "\n",
    "'textcat': The text classification (textcat) component, as you've added, is used for text categorization tasks, \n",
    "where it assigns predefined labels or categories to text documents.\n",
    "\n",
    "These components work together in a specific order to process and analyze text documents. The order in which they\n",
    "appear in nlp.pipe_names reflects the order in which they are applied to the input text during the NLP pipeline. \n",
    "Each component adds valuable information or features to the processed text, making it ready for various \n",
    "downstream NLP tasks like entity recognition or text classification.\n",
    "'''\n",
    "\n",
    "nlp.pipe_names"
   ]
  },
  {
   "cell_type": "code",
   "execution_count": 79,
   "id": "5bf7e0ba",
   "metadata": {},
   "outputs": [
    {
     "data": {
      "text/plain": [
       "1"
      ]
     },
     "execution_count": 79,
     "metadata": {},
     "output_type": "execute_result"
    }
   ],
   "source": [
    "'''\n",
    "\"RECOMMEND\" is for a recommended game and \"DON'T BUY\" shows if a review is not recommending the game\n",
    "'''\n",
    "#Adding labels to textcat\n",
    "textcat.add_label(\"RECOMMENDED\")\n",
    "textcat.add_label(\"DON'T BUY\")"
   ]
  },
  {
   "cell_type": "code",
   "execution_count": 80,
   "id": "c1b5dd5f",
   "metadata": {},
   "outputs": [
    {
     "data": {
      "text/plain": [
       "[(\"I'm scared and hearing creepy voices.  So I'll pause for a moment and write a review while I wait for my heart beat to return to atleast somewhat calmer times.  This game is adorable and creepy like my happy tree friends but with the graphics sceme of my childhood (but more bubble and 'clean').  Hello 1990's.What charactes there are (that isnot trying to kill me) were likable and a bit odd.  I did do a few noob things though, such as:Oh look a class room full of ghosts from dead children, lets shine my flashlight on them and stand there staring at them..Or, hmm creepy music, I'll turn around and see if I can see what's chasing me.Never before in a game have I been this afraid of finding a locked door.\",\n",
       "  1),\n",
       " (\"Best game, more better than Sam Pepper's YouTube account. 10/10What you'll need to play:A computerSome extra pants.Pros:Scary as hell.Fun.Adventure.Spooky.Did I forgot to mention that its scary as hell?You'll get more pants/briefs in your wardrobe.Time consuming if you're bored.Cons:Buying pants/briefs. You haven't downloaded it yet.\",\n",
       "  1),\n",
       " (\"A littly iffy on the controls, but once you know how to play, very easy to master. I've made it to floor 1000 before, but due to certain circumstances was unable to finish. Was not game related, don't worry, not a bug/glitch or antyhing.I highly recommend this for casual play, maybe with a friend or two watching. Hilarity ensues, especially once you hit floor 150. Have fun my fellow fleshlings!\",\n",
       "  1),\n",
       " (\"Great game, fun and colorful and all that.A side note, though: When are we getting windowed mode? My computer hates fullscreen so.... yeah. The computer doesn't like to run this. Shame, because this is really enjoyable. But until then, I guess I'll settle for more Skyrim. Cheers!\",\n",
       "  1),\n",
       " ('Not many games have the cute tag right next to the horror tag on Steam.I first played this game in late 2014 and coming back to it for the first time since. This game is so good for it being free, take advantage and experience it. Try and get to  room 1000 or as close as you can. The further you progress the darker the game becomes.',\n",
       "  1),\n",
       " (\"Early Access ReviewIt's pretty cute at first, but then later gets horrifying and it really does jumpscare! The specimen scared me more! Still enjoyable and worth playing, though. Great and well-made game!10/10\",\n",
       "  1),\n",
       " (\"Great game. it's a cute little horror game that progressively gets darker and scarier. It has a sense of humor too! (I've played it a little but I have watched several people play it and I love it!)\",\n",
       "  1),\n",
       " (\"Spooky's Jump Scare Mansion is a Free Retro maze game with jump scares and death.  It worked on Win 10, looked ok, played ok, sounded ok.  I took a wrong turn somehow and keep getting killed by a ghostly creature around room 61, i guess i need to restart and take a different route.  Has a retro look, sort of like Castle Wolfenstein or Doom.   Has creepy music and sounds.  It has 1,000 rooms to go through.  Try this game, you might like it.For more info:https://www.youtube.com/watch?v=4mKsY6rVdDohttps://www.youtube.com/watch?v=G3olm3IprwQhttps://www.youtube.com/watch?v=VZEJVpaRhkIhttp://www.polygon.com/2015/4/27/8502907/spookys-house-of-jump-scares-gameplay-overview-videohttps://www.rockpapershotgun.com/2016/01/14/spookys-house-of-jump-scares-free-game/#more-340713http://www.indiedb.com/games/spookys-house-of-jump-scares/reviewshttp://www.bagogames.com/spookier-meets-eye-spookys-house-jump-scares-review/ \",\n",
       "  1),\n",
       " (\"Somewhere between light hearted, happy parody and being afraid of the dark lies Spooky's House of Jump Scares. You are tasked with the daunting duty of surviving one thousand rooms in this endless first person perspective runner. Each room is no more than a few seconds thanks to a sprint key and the fact that each door counts as a new room. Even then one thousand rooms is still a feat against tedium and needless repetition. There are still things every fifteen or so rooms to keep your interest and at the end of fifty rooms you'll find a save point, but nothing can save you from permanent death at the hands of the foul creatures that live within.On the surface the game has a clean, chipper almost cartoon low budget charm to it. Jump scares are rare and at first it comes in the form of adorable cardboard cutouts of pumpkins, ghosts and skeletons that pop out of the wall accompanied by a sound. Some of the sounds are silly and unfitting other times its screeches to drive chills down your spine. The game excels in the sound department and makes good use of music, ambient sounds and foot steps following you.As you delve deeper through the doors of this dank dungeon, you'll uncover more frightening things and points of intreege. There are plenty of written notes here and there. A few times you'll need to search for a key in a different room, but the other ninety-nine percent of the game is leaving rooms behind forever.The themes of the rooms begin to change from the mundane almost Wolfenstien 3D-esque corridors to metal asylum rooms that give you a flashlight to find your way through. There are purple dungeons, green sewers with glowing scum. Some rooms are coated with slime to slow you own while others have holes in the ceiling as if to give you a feeling of dread that something could pop out.There are a limited amount of rooms and I started to memorize them all. Even the game's crescendo encounters in a vacant room with walkways. There's no way to fall into the dark chasms, it acts as if they were walls, but with this open room you get to see a specific creature that might be following you. Sometimes they can float over the gaps, other times they're stuck trying to walk at you from across the gap so you can get a good look at them when they're harmless.If they touch you three or so times you're dead. You have health that does replenish over time and these big moments are rare and easy to avoid. Just keep running and hope there are no locked doors! They only happen in specific rooms and sometimes the rooms are empty, but it still gives that dreadful feeling.You can tear through these rooms pretty quick about 350 of them in a 45 minute. Your stamina will deplete to give a monster the chance to catch you, but going through a door restores your will to run. Other than that waiting a few seconds will replenish your stamina. Longer rooms hav1e limited visibility. The further out an area is the darker it gets.A few rooms have good diversions or tricks to them. Such as one that turns bright and you need to enter the correct combination of corridors signaled by chimes until you can see the door. Another room is endless darkness with a torch at the end, until its revealed that the torch is merely painted on a black wall. A few times you'll need to search an adjacent room for a key to the one you're in.Every fifty rooms, you take a moment to unwind in an elevator that reminds you to hang in there or have a coffee break. The game makes a good balance of calm moments for each of the few tense situations. Its what keeps you off kilter and never expecting anything. Every two hundred and fifty rooms offers a prize to you. What's in the box? Is it snakes? Is it a jack-in-the-box or is it a note?Truth be told I'm very goal oriented with video games and so Spooky missed its mark for me. The cardboard cutouts get in the way. Being chased by something means that it was no threat since it was already behind me. Perhaps in later rooms it gets more difficult, but this is just easy tedium.  Another room, another room, another room. Then knowing I have seven hundred more rooms and another two hour investment of endless running turns the game into a grind. There's no fear and its too long to endure even with save points. The game reuses its points of interest a few times since it recycles rooms.Another issue I have with the game is getting stuck on edges where I need to push away from a wall to get free and turn a corner. Its more than walls, its on the gaps too. I suppose this is acceptable for a scary game where you get chased, but I'm hung up on these hang ups.One interesting thing the game does have is a stabbing mini game where it looks like you're a ghost in a mall. Its a good diversion from the repetition. There's even a computer that shows you all the creatures in the house. Well most of them at least.The best selling point this game has is that its free. By no means does that make this a good game, but it makes it easier to accept. Its a game that brings you up with charm to tear you down with scares beyond the cheap cardboard cutouts that can litter a hallway every so often. Its just far too repetitive without that much dread or excitement.\",\n",
       "  0),\n",
       " (\"This game with its cute little out of the wall pop-ups that scared the living light out of me I like it very much I haven't played it lately but this is a very good game, I like how its a funny jump scare game and it is very very fun but the story is pretty sad. so good luck and have fun in the rooms :D\",\n",
       "  1)]"
      ]
     },
     "execution_count": 80,
     "metadata": {},
     "output_type": "execute_result"
    }
   ],
   "source": [
    "# Converting the DF into a list of tuples\n",
    "df[\"tuples\"] = df.apply(lambda row: (row['user_review'], row['user_suggestion']), axis=1)\n",
    "train = df['tuples'].tolist()\n",
    "train[:10]"
   ]
  },
  {
   "cell_type": "code",
   "execution_count": 76,
   "id": "4ceb949b",
   "metadata": {},
   "outputs": [
    {
     "data": {
      "text/plain": [
       "[(\"Good game, spend quite some time on it sofar and it's enjoyable.The quests are mostly normal 'MMO quests' kill 10 x, get 3 x etc.There are somewhat more 'story' quests which involve some npc's saying things and some cutscenes.Pro's - Free- Fun to play, all classes offer something unique.- constanly being developed.- free expansions (as far as i can tell)- once you hit level 60 a whole new world opens up.Cons- Bag space/bank slots/character slots all need to be bought.- Without lots of grinding you can't compete at endgame with those that spend real money.- prices for basic things are a bit high.It's worth a try, if you got time to spare this game can fill it.\",\n",
       "  {'cats': {'RECOMMENDED': True, \"DON'T BUY\": False}}),\n",
       " ('Just don\\'t, the community has died, the developers still don\\'t listen to the community. The progression is a joke now more than ever. And as someone whose watched this game from infancy they\\'re just adding anything flashy to their game to get you to pick it up and spend money trying to deal with their massively grinding progression system.They\\'ve made most other forms of play irrelevant beyond tanks and fighter planes. Bombers don\\'t have armor in this game. The so called \"fleet\" is nothing but destroyers and patrol boats--for how long that was in development and how little was produced is an absolute disgrace. Tanks development, testing, and implementation took far less time and released with full blown trees for each of the different body styles of tanks: light, medium, and heavy.And they\\'re already moving on from adding ships to adding helicopters?! But you know one this game has always had at its core, the microtransactions are surreal and as much money as people get conned into buying because of the horrible grind in the game makes it such that they should have plenty of cash to make a whole game of World of Worships inside War Thunder.From the beginning this game looked great, the more its matured its lost the vision it started with. Seriously, find something else to play. This is nothing but a husk of game begging you to spend money and laughing at you when you\\'re frustrated with it. Developers trolling players at its finest.',\n",
       "  {'cats': {'RECOMMENDED': False, \"DON'T BUY\": True}}),\n",
       " (\"I haven't gotten to play the game yet even though it does say I have 0.8 hours on it. My friend told me to wait when the launcher comes up. So I do. Then the launcher will either close out, or close out and the game will open. The game either doesn't respond, is completely black screening or just closes as soon as I click on it. From what I've seen, it's a good game. BUT LET ME PLAY THE GAME FOR GOSH'S SAKE! And, on my PC I have to use Task Manager to close Steam and restart it because when the game closes, it literally forces me to use Task Manager because it still says it's running and I can't play any other game.\",\n",
       "  {'cats': {'RECOMMENDED': False, \"DON'T BUY\": True}}),\n",
       " (\"A great game to play in the background while you're doing an assignment or playing another game....OR WAITING FOR PREMEIRE PRO TO RENDER!!!!It's a good time waster just don't expect much to happen\",\n",
       "  {'cats': {'RECOMMENDED': True, \"DON'T BUY\": False}}),\n",
       " ('The game is not deep enough to endure the grindy progression to new ships, crew and equipment. Also the matches feel way to random with not knowing what the other team pick until your locked in your choice. The ships look good but the maps are quite bland and repetitive. The game works as som casual fun but I have a hard time seeing myself deeply invested in it.However it is free so by all means test it out.',\n",
       "  {'cats': {'RECOMMENDED': True, \"DON'T BUY\": False}}),\n",
       " ('Good game if you want to rage alot and suffer from stupid server lag all the time.  Oh and also it seems like RetoMoto seems to favor the soviet faction cause they have way too op default camo, they are practically invisible in the forests and in any vegetation. Conclusion, you want to rage then this is the game to go for.DO NOT PLAY GERMANS, I wasted over 100hrs grinding my german characters only to get them completely nerfed. I actually spent money on this stupid game ( I have no idea how could I\\'ve been so dumb).Developers♥♥♥♥♥♥on any new ideas (by the community), crying about the game having to be reprogrammed completely. All they do is add ♥♥♥♥-all updates and just rake money with both hands.German faction is now dying thanks to all nerfs towards germans and buffs to soviets and US.(Yea Soviet and US fanboys keep crying about germans being OP af, they\\'re not even close to being as good as soviets and US)Now there are close to no good players left in germans. Only 10y/olds who just run towards tanks attempting to blow them up.Apparently Heavy Armored Tanks get blown up by a few little AT grenades... WTF RETO.(Heavy Tanks cost ALOT to spawn in)Germans have♥♥♥♥♥♥weapons.Germans don\\'t have good vehicles.Germans don\\'t have this and that. I could go on with this for the whole day.But is easier to say that Reto hates german faction.I hope they realise that they are just ♥♥♥♥♥♥♥♥ on the game with those new useless dlcs.Like seriously? Veteran membership costs way too much for its useless \"boosts\". Game has lag and performance issues and all they do is host those livestreams with new useless content that keeps getting worse. They are clearly out of ideas. Who the fu** asked for useles pocket pistols or whatever, they are COMPLETELY AND UTTERLY USELESS.Reto is by far THE worst game company. No community ideas are implemented. Noone in the support team gives a fu** about the issues that players have. They don\\'t offer ANY good suggestions on how to fix the problem, and they keep cranking out bad updates with tons of bugs, and keep on nerfing germans with every update. GG Reto.',\n",
       "  {'cats': {'RECOMMENDED': False, \"DON'T BUY\": True}}),\n",
       " (\"Love the game. Different people now own itthan back in the warz days. Patches keep coming cool new modes to play like the new survival mode wich is hard core lol. Great fun trading items and playing battle royale. game had the best water graphics ive seen in a game. Doesn't take a highend computer to run either. Just like any game out there just adjust graphics. Give it a try. is great fun. If you have any problems you just send in a ticket on the website and they help you resolve. also very acttive discord trading. especialy in skins. Crafting and new competition mode are coming soon. Can;t wait! i Like the game so much i even became a discord moderator. This is a free to play game. and definately a pay to win. Which i like so every one has fair chance. Check it out. great fun.\",\n",
       "  {'cats': {'RECOMMENDED': True, \"DON'T BUY\": False}}),\n",
       " (\"BEST GAME ON STEAM! First off, tf2 has many gamemodes, so they're lots of choices to choose from! It's origanality is amazing, saying that it has trading weapons, have killstreaks and kill counters, hats and miscs, It's endless! Plus, it is one of the most played games on steam, and has a huge amount of recomendations, so go ♥♥♥♥ing buy this game, and ask friends about why they enjoy it!!!\",\n",
       "  {'cats': {'RECOMMENDED': True, \"DON'T BUY\": False}}),\n",
       " ('This game is absolutely fantastic. Been playing since closed beta and the devs have actively been balancing the game with frequent patches, new cards every month, an absolutely /FANTASTIC/ story expansion with wonderful voice acting and difficult challenges, and all on top of very deep gameplay that in my opinion, yes, is superior to Hearthstone, having played HS for 2 years and ESL since closed beta many months ago. This is the game I can recommend more highly than any other in my steam library.',\n",
       "  {'cats': {'RECOMMENDED': True, \"DON'T BUY\": False}}),\n",
       " ('To the devs:This is a good hunting game but it is missing some variety. Dont get me wrong, there are alot of animals and maps but most are based off forests and fields and the main animals are deer or bear. I think there should be a Africa map. That itself would add variety with lions, cape buffalo, hyena, impala, gazelle, zebra and other animals from Africa. Another thing is that when I play, there are alot of people having conversations with me about animals that should be added and some of the most suggested animals where alligator, mountain lion, dove, racoon, and squirrl. I would like some kind of snake added to the game too.I hope that devs see this and add some thing that is on this list of animals people would like.Keep up on the good work devs. I hope you continue to add lots of new things that will make people like this game even more.',\n",
       "  {'cats': {'RECOMMENDED': True, \"DON'T BUY\": False}})]"
      ]
     },
     "execution_count": 76,
     "metadata": {},
     "output_type": "execute_result"
    }
   ],
   "source": [
    "import random \n",
    "def load_data(limit=0, split=0.8):\n",
    "    train_date = train\n",
    "    #shuffle the data\n",
    "    random.shuffle(train_date)\n",
    "    texts,labels = zip(*train_date)\n",
    "    #get categories for each review \n",
    "    cats = [{\"RECOMMENDED\": bool(y), \"DON'T BUY\": not bool(y)} for y in labels]\n",
    "    \n",
    "    #splitting the training and evaluation data \n",
    "    split = int(len(train_date)*split)\n",
    "    return (texts[:split], cats[:split]), (texts[split:], cats[split]) \n",
    "\n",
    "n_texts= 13995\n",
    "    \n",
    "# calling the load_data function \n",
    "(train_texts, train_cats), (dev_texts, dev_cats)=load_data(limit=n_texts)\n",
    "    \n",
    "# Processing the final format of training data\n",
    "train_data = list(zip(train_texts, [{'cats' : cats} for cats in train_cats]))\n",
    "train_data[:10]"
   ]
  },
  {
   "cell_type": "code",
   "execution_count": 88,
   "id": "1487fa0f",
   "metadata": {},
   "outputs": [
    {
     "name": "stdout",
     "output_type": "stream",
     "text": [
      "Training the model....wait until it is finished before moving on to test\n",
      "Losses: {'textcat': 3.5293543511064294}\n"
     ]
    }
   ],
   "source": [
    "from spacy.util import minibatch, compounding\n",
    "from spacy.training.example import Example\n",
    "\n",
    "# (number of training iterations, n.....int\")\n",
    "n_iter = 15\n",
    "\n",
    "# L2 regularization strength (adjust as needed)\n",
    "l2_regularization = 1e-6\n",
    "\n",
    "\n",
    "# disabling other components\n",
    "other_pipes = [pipe for pipe in nlp.pipe_names if pipe != 'textcat' ]\n",
    "\n",
    "with nlp.disable_pipes(*other_pipes):  # only training textcat\n",
    "    optimizer = nlp.create_optimizer()\n",
    "    \n",
    "    print(\"Training the model....wait until it is finished before moving on to test\")\n",
    "    \n",
    "    # perform the training \n",
    "    for i in range(n_iter):\n",
    "        losses = {}  # Losses a type of dict, it is taking an optional record of the loss during training \n",
    "        random.shuffle(train_data)  # Shuffle data in each iteration\n",
    "        batches = minibatch(train_data, size=compounding(4., 32., 1.001))\n",
    "        for batch in batches:\n",
    "            examples = []  # Create a list of Example objects for this batch\n",
    "            for text, annotations in batch:\n",
    "                doc = nlp.make_doc(text)\n",
    "                example = Example.from_dict(doc, annotations)\n",
    "                examples.append(example)\n",
    "            \n",
    "            nlp.update(examples, \n",
    "                       sgd=optimizer, \n",
    "                       drop=0.2, \n",
    "                       losses=losses)  \n",
    "\n",
    "        # Apply L2 regularization to the optimizer\n",
    "        with textcat.model.use_params(optimizer.averages):\n",
    "            for param_name in textcat.model.param_names:\n",
    "                if 'ngram' not in param_name:  # Exclude ngram parameters from regularization\n",
    "                    textcat.model.get_ref(param_name)[:] -= l2_regularization * textcat.model.get_grad(param_name)\n",
    "\n",
    "    # Print the losses after each iteration\n",
    "    print(\"Losses:\", losses)"
   ]
  },
  {
   "cell_type": "code",
   "execution_count": 89,
   "id": "f57483be",
   "metadata": {},
   "outputs": [
    {
     "data": {
      "text/plain": [
       "{'RECOMMENDED': 0.12743383646011353, \"DON'T BUY\": 0.8725662231445312}"
      ]
     },
     "execution_count": 89,
     "metadata": {},
     "output_type": "execute_result"
    }
   ],
   "source": [
    "# Testing the model\n",
    "#nlp.create_optimizer()\n",
    "review =\"the game was boring and we did not have any fun at all - I was very much so dissapointed\"\n",
    "doc=nlp(review)\n",
    "doc.cats"
   ]
  },
  {
   "cell_type": "code",
   "execution_count": 90,
   "id": "55a955dd",
   "metadata": {},
   "outputs": [
    {
     "data": {
      "text/plain": [
       "{'RECOMMENDED': 0.9842442274093628, \"DON'T BUY\": 0.01575581543147564}"
      ]
     },
     "execution_count": 90,
     "metadata": {},
     "output_type": "execute_result"
    }
   ],
   "source": [
    "#nlp.create_optimizer()\n",
    "review =\"the best exciting flight simulator EVER!!!!!\"\n",
    "doc=nlp(review)\n",
    "doc.cats"
   ]
  },
  {
   "cell_type": "code",
   "execution_count": 91,
   "id": "78c527f0",
   "metadata": {},
   "outputs": [
    {
     "data": {
      "text/plain": [
       "{'RECOMMENDED': 0.0017948184395208955, \"DON'T BUY\": 0.9982051849365234}"
      ]
     },
     "execution_count": 91,
     "metadata": {},
     "output_type": "execute_result"
    }
   ],
   "source": [
    "\n",
    "review =\"the game was long and it was not too bad but I had much better expectations and it's sad to say - i would not buy this game if i were you\"\n",
    "doc=nlp(review)\n",
    "doc.cats"
   ]
  },
  {
   "cell_type": "code",
   "execution_count": 92,
   "id": "71f78028",
   "metadata": {},
   "outputs": [
    {
     "data": {
      "text/plain": [
       "{'RECOMMENDED': 0.834985613822937, \"DON'T BUY\": 0.16501431167125702}"
      ]
     },
     "execution_count": 92,
     "metadata": {},
     "output_type": "execute_result"
    }
   ],
   "source": [
    "\n",
    "review =\"this game is so much fun and i want to play this all day. I love this game so much\" \n",
    "doc=nlp(review)\n",
    "doc.cats"
   ]
  },
  {
   "cell_type": "code",
   "execution_count": 94,
   "id": "5d1300a9",
   "metadata": {},
   "outputs": [
    {
     "data": {
      "text/plain": [
       "{'RECOMMENDED': 0.4654693305492401, \"DON'T BUY\": 0.5345306992530823}"
      ]
     },
     "execution_count": 94,
     "metadata": {},
     "output_type": "execute_result"
    }
   ],
   "source": [
    "review =\"this game got me bored in the first 5 mins.\" \n",
    "doc=nlp(review)\n",
    "doc.cats"
   ]
  },
  {
   "cell_type": "code",
   "execution_count": null,
   "id": "e51a231f",
   "metadata": {},
   "outputs": [],
   "source": []
  }
 ],
 "metadata": {
  "kernelspec": {
   "display_name": "Python 3 (ipykernel)",
   "language": "python",
   "name": "python3"
  },
  "language_info": {
   "codemirror_mode": {
    "name": "ipython",
    "version": 3
   },
   "file_extension": ".py",
   "mimetype": "text/x-python",
   "name": "python",
   "nbconvert_exporter": "python",
   "pygments_lexer": "ipython3",
   "version": "3.10.9"
  }
 },
 "nbformat": 4,
 "nbformat_minor": 5
}
